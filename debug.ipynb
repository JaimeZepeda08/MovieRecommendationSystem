{
 "cells": [
  {
   "cell_type": "code",
   "execution_count": 1,
   "id": "68993ed4-c485-4c24-92f0-c20305b57735",
   "metadata": {},
   "outputs": [],
   "source": [
    "import zipfile\n",
    "import pandas as pd\n",
    "import movie_utils\n",
    "from tqdm import tqdm, trange\n",
    "import numpy as np\n",
    "from scipy.sparse.linalg import svds\n",
    "import matplotlib.pyplot as plt\n",
    "import random\n",
    "from sklearn.impute import KNNImputer\n",
    "import pickle\n",
    "import gzip\n",
    "import random\n",
    "\n",
    "%load_ext autoreload\n",
    "%autoreload 2"
   ]
  },
  {
   "cell_type": "code",
   "execution_count": 2,
   "id": "efd6c9c5-8c76-4125-9eb2-4b992457214d",
   "metadata": {},
   "outputs": [
    {
     "name": "stdout",
     "output_type": "stream",
     "text": [
      "Downloading ml-32m/tags.csv...\n",
      "Downloading ml-32m/links.csv...\n",
      "Downloading ml-32m/ratings.csv...\n",
      "Downloading ml-32m/movies.csv...\n"
     ]
    }
   ],
   "source": [
    "# data from: https://grouplens.org/datasets/movielens/\n",
    "\n",
    "files = {}\n",
    "\n",
    "with zipfile.ZipFile(\"ml-32m.zip\", 'r') as zip:\n",
    "    zip_contents = zip.namelist()\n",
    "    for file_name in zip_contents:\n",
    "        if file_name.endswith('.csv'):\n",
    "            print(\"Downloading \" + file_name + \"...\")\n",
    "            with zip.open(file_name) as file:\n",
    "                df = pd.read_csv(file)\n",
    "                files[file_name[7:-4]] = df"
   ]
  },
  {
   "cell_type": "code",
   "execution_count": 3,
   "id": "580d7368-2fb4-42ba-b85e-be5717c77a82",
   "metadata": {},
   "outputs": [
    {
     "data": {
      "text/html": [
       "<div>\n",
       "<style scoped>\n",
       "    .dataframe tbody tr th:only-of-type {\n",
       "        vertical-align: middle;\n",
       "    }\n",
       "\n",
       "    .dataframe tbody tr th {\n",
       "        vertical-align: top;\n",
       "    }\n",
       "\n",
       "    .dataframe thead th {\n",
       "        text-align: right;\n",
       "    }\n",
       "</style>\n",
       "<table border=\"1\" class=\"dataframe\">\n",
       "  <thead>\n",
       "    <tr style=\"text-align: right;\">\n",
       "      <th></th>\n",
       "      <th>userId</th>\n",
       "      <th>movieId</th>\n",
       "      <th>rating</th>\n",
       "    </tr>\n",
       "  </thead>\n",
       "  <tbody>\n",
       "    <tr>\n",
       "      <th>0</th>\n",
       "      <td>1</td>\n",
       "      <td>17</td>\n",
       "      <td>4.0</td>\n",
       "    </tr>\n",
       "    <tr>\n",
       "      <th>1</th>\n",
       "      <td>1</td>\n",
       "      <td>25</td>\n",
       "      <td>1.0</td>\n",
       "    </tr>\n",
       "    <tr>\n",
       "      <th>2</th>\n",
       "      <td>1</td>\n",
       "      <td>29</td>\n",
       "      <td>2.0</td>\n",
       "    </tr>\n",
       "    <tr>\n",
       "      <th>3</th>\n",
       "      <td>1</td>\n",
       "      <td>30</td>\n",
       "      <td>5.0</td>\n",
       "    </tr>\n",
       "    <tr>\n",
       "      <th>4</th>\n",
       "      <td>1</td>\n",
       "      <td>32</td>\n",
       "      <td>5.0</td>\n",
       "    </tr>\n",
       "  </tbody>\n",
       "</table>\n",
       "</div>"
      ],
      "text/plain": [
       "   userId  movieId  rating\n",
       "0       1       17     4.0\n",
       "1       1       25     1.0\n",
       "2       1       29     2.0\n",
       "3       1       30     5.0\n",
       "4       1       32     5.0"
      ]
     },
     "execution_count": 3,
     "metadata": {},
     "output_type": "execute_result"
    }
   ],
   "source": [
    "ratings_df_all = files[\"ratings\"][[\"userId\", \"movieId\", \"rating\"]]\n",
    "ratings_df_all.head()"
   ]
  },
  {
   "cell_type": "code",
   "execution_count": 4,
   "id": "ef0e8f39",
   "metadata": {},
   "outputs": [
    {
     "data": {
      "text/html": [
       "<div>\n",
       "<style scoped>\n",
       "    .dataframe tbody tr th:only-of-type {\n",
       "        vertical-align: middle;\n",
       "    }\n",
       "\n",
       "    .dataframe tbody tr th {\n",
       "        vertical-align: top;\n",
       "    }\n",
       "\n",
       "    .dataframe thead th {\n",
       "        text-align: right;\n",
       "    }\n",
       "</style>\n",
       "<table border=\"1\" class=\"dataframe\">\n",
       "  <thead>\n",
       "    <tr style=\"text-align: right;\">\n",
       "      <th></th>\n",
       "      <th>movieId</th>\n",
       "      <th>title</th>\n",
       "      <th>genres</th>\n",
       "      <th>imdbId</th>\n",
       "      <th>tmdbId</th>\n",
       "    </tr>\n",
       "  </thead>\n",
       "  <tbody>\n",
       "    <tr>\n",
       "      <th>0</th>\n",
       "      <td>1</td>\n",
       "      <td>Toy Story (1995)</td>\n",
       "      <td>Adventure|Animation|Children|Comedy|Fantasy</td>\n",
       "      <td>114709</td>\n",
       "      <td>862.0</td>\n",
       "    </tr>\n",
       "    <tr>\n",
       "      <th>1</th>\n",
       "      <td>2</td>\n",
       "      <td>Jumanji (1995)</td>\n",
       "      <td>Adventure|Children|Fantasy</td>\n",
       "      <td>113497</td>\n",
       "      <td>8844.0</td>\n",
       "    </tr>\n",
       "    <tr>\n",
       "      <th>2</th>\n",
       "      <td>3</td>\n",
       "      <td>Grumpier Old Men (1995)</td>\n",
       "      <td>Comedy|Romance</td>\n",
       "      <td>113228</td>\n",
       "      <td>15602.0</td>\n",
       "    </tr>\n",
       "    <tr>\n",
       "      <th>3</th>\n",
       "      <td>4</td>\n",
       "      <td>Waiting to Exhale (1995)</td>\n",
       "      <td>Comedy|Drama|Romance</td>\n",
       "      <td>114885</td>\n",
       "      <td>31357.0</td>\n",
       "    </tr>\n",
       "    <tr>\n",
       "      <th>4</th>\n",
       "      <td>5</td>\n",
       "      <td>Father of the Bride Part II (1995)</td>\n",
       "      <td>Comedy</td>\n",
       "      <td>113041</td>\n",
       "      <td>11862.0</td>\n",
       "    </tr>\n",
       "  </tbody>\n",
       "</table>\n",
       "</div>"
      ],
      "text/plain": [
       "   movieId                               title  \\\n",
       "0        1                    Toy Story (1995)   \n",
       "1        2                      Jumanji (1995)   \n",
       "2        3             Grumpier Old Men (1995)   \n",
       "3        4            Waiting to Exhale (1995)   \n",
       "4        5  Father of the Bride Part II (1995)   \n",
       "\n",
       "                                        genres  imdbId   tmdbId  \n",
       "0  Adventure|Animation|Children|Comedy|Fantasy  114709    862.0  \n",
       "1                   Adventure|Children|Fantasy  113497   8844.0  \n",
       "2                               Comedy|Romance  113228  15602.0  \n",
       "3                         Comedy|Drama|Romance  114885  31357.0  \n",
       "4                                       Comedy  113041  11862.0  "
      ]
     },
     "execution_count": 4,
     "metadata": {},
     "output_type": "execute_result"
    }
   ],
   "source": [
    "movies_df_all = files[\"movies\"].merge(files[\"links\"], left_on=\"movieId\", right_on=\"movieId\", how=\"inner\")\n",
    "movies_df_all.head()"
   ]
  },
  {
   "cell_type": "code",
   "execution_count": 5,
   "id": "a349b168-6b30-49b1-b69b-db2c69585a58",
   "metadata": {},
   "outputs": [],
   "source": [
    "all_movies = {}\n",
    "\n",
    "for _, movie in movies_df_all.iterrows():\n",
    "    all_movies[movie.movieId] = movie_utils.Movie(movie.movieId, movie.tmdbId, movie.title, movie.genres)"
   ]
  },
  {
   "cell_type": "code",
   "execution_count": 6,
   "id": "720f4b60",
   "metadata": {},
   "outputs": [],
   "source": [
    "popular_movies = files[\"ratings\"][[\"movieId\", \"userId\"]].groupby(\"movieId\").count()\n",
    "popular_movies = popular_movies.sort_values(by=[\"userId\"], ascending=False)\n",
    "popular_movies = popular_movies.index.values.tolist()\n",
    "\n",
    "num_movies = 1000\n",
    "top_popular_movies = popular_movies[:num_movies]\n",
    "top_popular_movies_set = set(popular_movies[:num_movies])"
   ]
  },
  {
   "cell_type": "code",
   "execution_count": 7,
   "id": "309c4b8b",
   "metadata": {},
   "outputs": [
    {
     "name": "stderr",
     "output_type": "stream",
     "text": [
      "100%|██████████| 87585/87585 [16:58<00:00, 86.03it/s]   \n"
     ]
    }
   ],
   "source": [
    "# get all attributes for the top 1000 popular movies\n",
    "\n",
    "movies = {}\n",
    "total = len(movies_df_all)\n",
    "\n",
    "for _, movie in tqdm(movies_df_all.iterrows(), total=total):\n",
    "    if movie.movieId in top_popular_movies_set:\n",
    "        all_movies[movie.movieId].loadAllAttributes()\n",
    "        movies[movie.movieId] = all_movies[movie.movieId]\n",
    "    \n",
    "serialized_data = pickle.dumps(movies)\n",
    "    \n",
    "with gzip.open(\"movie_objects\" + str(random.random())[:8], 'wb') as f:\n",
    "    f.write(serialized_data)"
   ]
  },
  {
   "cell_type": "code",
   "execution_count": null,
   "id": "3307cf70",
   "metadata": {},
   "outputs": [],
   "source": [
    "# get the ratings for the top 1000 popular movies\n",
    "\n",
    "total = len(ratings_df_all)\n",
    "ratings = np.empty((total, 3), dtype=np.float32)\n",
    "\n",
    "i = 0\n",
    "for _, rating in tqdm(ratings_df_all.iterrows(), total=total):\n",
    "    if rating.movieId in top_popular_movies_set:\n",
    "        ratings[i, 0] = rating.userId\n",
    "        ratings[i, 1] = rating.movieId\n",
    "        ratings[i, 2] = rating.rating\n",
    "        i += 1\n",
    "\n",
    "ratings = ratings[:i]\n",
    "np.savez_compressed(\"ratings.npz\", ratings=ratings)"
   ]
  },
  {
   "cell_type": "code",
   "execution_count": null,
   "id": "81aac065",
   "metadata": {},
   "outputs": [],
   "source": [
    "ratings = np.load(\"ratings.npz\")[\"ratings\"]"
   ]
  },
  {
   "cell_type": "code",
   "execution_count": null,
   "id": "ac7f36c9",
   "metadata": {},
   "outputs": [],
   "source": [
    "ratings_df = pd.DataFrame(ratings, columns=[\"userId\", \"movieId\", \"rating\"], index=[i for i in range(len(ratings))])\n",
    "ratings_df[\"userId\"] = ratings_df[\"userId\"].astype(int)\n",
    "ratings_df[\"movieId\"] = ratings_df[\"movieId\"].astype(int)\n",
    "ratings_df.head()"
   ]
  },
  {
   "cell_type": "code",
   "execution_count": null,
   "id": "dff680c3",
   "metadata": {},
   "outputs": [],
   "source": [
    "ratings_df = ratings_df.pivot_table(index=\"userId\", columns=\"movieId\", values=\"rating\")\n",
    "ratings_df"
   ]
  },
  {
   "cell_type": "code",
   "execution_count": null,
   "id": "9ae61d59",
   "metadata": {},
   "outputs": [],
   "source": [
    "def isvt(X, r, max_iter=500, epsilon=1e-2):\n",
    "    # Create a mask for the known entries in X\n",
    "    mask = X > 0  \n",
    "    prevM = np.zeros(X.shape)\n",
    "    prevM[mask] = X[mask]\n",
    "\n",
    "    progress_bar = trange(max_iter)\n",
    "    \n",
    "    for _ in progress_bar:\n",
    "        currM = np.copy(prevM)\n",
    "        \n",
    "        # Perform Singular Value Decomposition\n",
    "        U, S, Vt = svds(currM, k=r) # Threshold by only calculating the top r singular values\n",
    "        currM = U @ np.diag(S) @ Vt\n",
    "\n",
    "        # Fill in known values in currM from X\n",
    "        currM[mask] = X[mask]\n",
    "        \n",
    "        # Check for convergence\n",
    "        norm = np.linalg.norm(currM - prevM, ord='fro') / np.linalg.norm(prevM, ord='fro')\n",
    "        if norm < epsilon:\n",
    "            break\n",
    "            \n",
    "        progress_bar.set_description(f\"[{r=:}, {norm=:.3e}]\")\n",
    "        \n",
    "        prevM = currM\n",
    "    \n",
    "    return currM"
   ]
  },
  {
   "cell_type": "code",
   "execution_count": null,
   "id": "3502f2c2",
   "metadata": {},
   "outputs": [],
   "source": [
    "def train_test_split(df, p):\n",
    "    # Flatten the DataFrame to get all values with their index positions\n",
    "    all_values = [(i, j, value) for i, row in df.iterrows() for j, value in row.items() if value > 0]\n",
    "\n",
    "    # Calculate the number of values to pick based on the percentage\n",
    "    num_values_to_pick = int(p * len(all_values))\n",
    "\n",
    "    # Randomly pick the specified number of values\n",
    "    test_values = random.sample(all_values, num_values_to_pick)\n",
    "\n",
    "   # Create a copy of the DataFrame to modify\n",
    "    new_df = df.copy()\n",
    "\n",
    "    # Replace the picked values in the new DataFrame with 0\n",
    "    for i, j, _ in test_values:\n",
    "        new_df.at[i, j] = 0\n",
    "\n",
    "    return new_df, test_values\n",
    "\n",
    "def isvt_with_score(X, r, test_proportion=0.1, max_iter=500, epsilon=1e-2):\n",
    "    # create train / test split \n",
    "    train_df, test_values = train_test_split(X, test_proportion)\n",
    "\n",
    "    # run isvt algorithm with given rank\n",
    "    M = isvt(train_df.to_numpy(), r=r, max_iter=max_iter, epsilon=epsilon)\n",
    "    M = pd.DataFrame(M, columns=train_df.columns, index=train_df.index)\n",
    "\n",
    "    # compare predicted values with expected ones\n",
    "    scores = np.array([abs(rating - M.at[i, j]) for i, j, rating in test_values])\n",
    "    avg_error = scores.mean()\n",
    "\n",
    "    return (M, avg_error)\n",
    "\n",
    "def cross_val_isvt(X, r_list, test_proportion=0.1, plot=True, max_iter=500, epsilon=1e-2):\n",
    "    # calculate the error for each rank in r_list\n",
    "    errors = [] \n",
    "    for r in r_list:\n",
    "        errors.append(isvt_with_score(X, r, test_proportion, max_iter, epsilon))\n",
    "\n",
    "    if plot:\n",
    "        plt.plot(r_list, [err for _, err in errors])\n",
    "        plt.xlabel(\"rank\")\n",
    "        plt.ylabel(\"error\")\n",
    "\n",
    "    # find the rank with the lowest error\n",
    "    best = np.argmin(np.array([err for _, err in errors]))\n",
    "    return (errors[best][0], r_list[best])"
   ]
  },
  {
   "cell_type": "code",
   "execution_count": null,
   "id": "951a9c57",
   "metadata": {},
   "outputs": [],
   "source": [
    "num_users = 50000\n",
    "X = ratings_df[:num_users]"
   ]
  },
  {
   "cell_type": "code",
   "execution_count": null,
   "id": "99074d50",
   "metadata": {},
   "outputs": [],
   "source": [
    "bestM, rank = cross_val_isvt(X, r_list=[2**n for n in range(1,7)])\n",
    "print(f\"Rank: {rank}\")"
   ]
  },
  {
   "cell_type": "code",
   "execution_count": null,
   "id": "85dbb7fd",
   "metadata": {},
   "outputs": [],
   "source": [
    "M, error = isvt_with_score(X, 8, epsilon=1e-3)"
   ]
  },
  {
   "cell_type": "code",
   "execution_count": null,
   "id": "520cb082",
   "metadata": {},
   "outputs": [],
   "source": [
    "print(f\"error: {(error / 5) * 100:.2f}%\")\n",
    "M"
   ]
  },
  {
   "cell_type": "code",
   "execution_count": null,
   "id": "87c8b0c0",
   "metadata": {},
   "outputs": [],
   "source": [
    "user_df = pd.DataFrame(columns=M.columns, index=[0], data=np.zeros(len(M.columns)).reshape(1, 1000))\n",
    "# rate movies\n",
    "user_df.at[0,122906] = 5\n",
    "user_df.at[0,122914] = 5\n",
    "user_df.at[0,122920] = 5\n",
    "user_df.at[0,122926] = 5\n",
    "user_df.at[0,195159] = 5\n",
    "user_df.at[0,122918] = 5\n",
    "user_df.at[0,95510] = 5\n",
    "user_df.at[0,106072] = 5\n",
    "user_df.at[0,122916] = 5"
   ]
  },
  {
   "cell_type": "code",
   "execution_count": null,
   "id": "62bda7ba",
   "metadata": {},
   "outputs": [],
   "source": [
    "combinedM = np.vstack([M.to_numpy(), user_df.to_numpy()])\n",
    "imputer = KNNImputer(n_neighbors=10, missing_values=0)\n",
    "recommendations = imputer.fit_transform(combinedM)[-1].reshape(1, num_movies)"
   ]
  },
  {
   "cell_type": "code",
   "execution_count": null,
   "id": "7919e47d",
   "metadata": {},
   "outputs": [],
   "source": [
    "recommendations_df = pd.DataFrame(recommendations, columns=M.columns, index=[0])\n",
    "sorted_recommendations = recommendations_df.loc[0].sort_values(ascending=False)\n",
    "for i in sorted_recommendations.index[:20]:\n",
    "    print(i, all_movies[i].title, all_movies[i].genres, sorted_recommendations[i])"
   ]
  },
  {
   "cell_type": "code",
   "execution_count": null,
   "id": "5538117d",
   "metadata": {},
   "outputs": [],
   "source": [
    "genres = [\"Action\", \n",
    "          \"Adventure\", \n",
    "          \"Animation\", \n",
    "          \"Children\", \n",
    "          \"Comedy\", \n",
    "          \"Crime\", \n",
    "          \"Documentary\", \n",
    "          \"Drama\", \n",
    "          \"Fantasy\", \n",
    "          \"Film-Noir\", \n",
    "          \"Horror\", \n",
    "          \"Musical\", \n",
    "          \"Mystery\", \n",
    "          \"Romance\", \n",
    "          \"Sci-Fi\", \n",
    "          \"Thriller\", \n",
    "          \"War\", \n",
    "          \"Western\",\n",
    "          \"IMAX\"]\n",
    "\n",
    "movie_by_genre = {}\n",
    "\n",
    "for genre in genres:\n",
    "    movie_by_genre[genre] = []\n",
    "\n",
    "for movieId in top_popular_movies:\n",
    "    for genre in all_movies[movieId].genres:\n",
    "        movie_by_genre[genre].append(all_movies[movieId])\n",
    "    "
   ]
  },
  {
   "cell_type": "code",
   "execution_count": null,
   "id": "e9862d59",
   "metadata": {},
   "outputs": [],
   "source": [
    "movie_by_genre[\"Action\"][:5]"
   ]
  },
  {
   "cell_type": "code",
   "execution_count": null,
   "id": "624b3067",
   "metadata": {},
   "outputs": [],
   "source": [
    "genres_picked_by_user = [\"Adventure\", \"Horror\", \"Sci-Fi\"]\n",
    "movies_to_rate = [movie_by_genre[genre][:5] for genre in genres_picked_by_user]\n",
    "movies_to_rate"
   ]
  }
 ],
 "metadata": {
  "kernelspec": {
   "display_name": "Python 3 (ipykernel)",
   "language": "python",
   "name": "python3"
  },
  "language_info": {
   "codemirror_mode": {
    "name": "ipython",
    "version": 3
   },
   "file_extension": ".py",
   "mimetype": "text/x-python",
   "name": "python",
   "nbconvert_exporter": "python",
   "pygments_lexer": "ipython3",
   "version": "3.9.6"
  }
 },
 "nbformat": 4,
 "nbformat_minor": 5
}
